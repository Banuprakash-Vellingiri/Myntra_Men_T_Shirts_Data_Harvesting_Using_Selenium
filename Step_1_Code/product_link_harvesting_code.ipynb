{
 "cells": [
  {
   "cell_type": "markdown",
   "metadata": {},
   "source": [
    "-------------------------------------------Myntra Data Scraping Project---------------------------------"
   ]
  },
  {
   "cell_type": "markdown",
   "metadata": {},
   "source": [
    "\n",
    "Induvidual Product link Harvesting :"
   ]
  },
  {
   "cell_type": "code",
   "execution_count": 12,
   "metadata": {},
   "outputs": [],
   "source": [
    "#Importing Necessary Libraries\n",
    "import time\n",
    "import pandas as pd\n",
    "from selenium import webdriver\n",
    "from selenium.webdriver.common.keys import Keys\n",
    "from selenium.webdriver.common.by import By \n",
    "from selenium.webdriver.support.ui import WebDriverWait\n",
    "from selenium.webdriver.support import expected_conditions as EC\n",
    "from selenium.webdriver.common.action_chains import ActionChains\n",
    "from tqdm import tqdm\n"
   ]
  },
  {
   "cell_type": "code",
   "execution_count": 13,
   "metadata": {},
   "outputs": [],
   "source": [
    "#Connection with Google Chrome Browser\n",
    "driver = webdriver.Chrome()  \n",
    "driver.maximize_window()\n",
    "#Migrating to the target web_page\n",
    "driver.get(\"https://www.myntra.com/\");"
   ]
  },
  {
   "cell_type": "code",
   "execution_count": 14,
   "metadata": {},
   "outputs": [],
   "source": [
    "\n",
    "try:\n",
    "    #Selecting Men Tab\n",
    "    men_tab=driver.find_element(By.CSS_SELECTOR,\"div.desktop-navLinks>div.desktop-navContent>div.desktop-navLink>a\")\n",
    "    action_chain=ActionChains(driver)\n",
    "    time.sleep(2)\n",
    "    action_chain.move_to_element(men_tab)\n",
    "    action_chain.perform()\n",
    "    #Selecting T-shirt Section\n",
    "    t_shirt_link=driver.find_element(By.CSS_SELECTOR,\" div:nth-child(1) > div > div > div > div > li:nth-child(1) > ul > li:nth-child(2) > a\").click()\n",
    "    time.sleep(2)\n",
    "except Exception as e:\n",
    "    print(e) "
   ]
  },
  {
   "cell_type": "code",
   "execution_count": 15,
   "metadata": {},
   "outputs": [
    {
     "name": "stderr",
     "output_type": "stream",
     "text": [
      "Processing: 100%|██████████| 1/1 [00:15<00:00, 15.72s/iteration]\n"
     ]
    }
   ],
   "source": [
    "#Code to Harvest Induvidual Product Link\n",
    "#----------------------------------------------------------------------------------------------------------------\n",
    "product_links=[] #List for storing product links\n",
    "total_pages=1 # Number pages to scrap the data\n",
    "try:\n",
    "   for page in tqdm(range(total_pages), desc=\"Processing\", unit=\"iteration\"):\n",
    "        elements=driver.find_elements(By.CSS_SELECTOR,\"li.product-base>a\") #Using CSS_SELECTOR Finding the Required Web element\n",
    "        try:\n",
    "           for element in elements:\n",
    "               product_link=element.get_attribute(\"href\") #Getting hyperlink from the web element\n",
    "               product_links.append(product_link)\n",
    "        except:\n",
    "           product_links.append(None)\n",
    "        #After scraping the product links in a particular page,moving to next page\n",
    "        next_button = WebDriverWait(driver, 10).until(EC.presence_of_element_located((By.XPATH, '//a[@rel=\"next\"]'))) #Using XPATH Finding the \"Next\" Button\n",
    "        next_button.click()   \n",
    "except Exception as e:\n",
    "    print(\"Exception_occured\",e)"
   ]
  },
  {
   "cell_type": "code",
   "execution_count": 16,
   "metadata": {},
   "outputs": [],
   "source": [
    "#Creating a Dictionary from collected product_links\n",
    "product_link_data={\"product_link\":product_links}"
   ]
  },
  {
   "cell_type": "code",
   "execution_count": 17,
   "metadata": {},
   "outputs": [
    {
     "data": {
      "text/html": [
       "<div>\n",
       "<style scoped>\n",
       "    .dataframe tbody tr th:only-of-type {\n",
       "        vertical-align: middle;\n",
       "    }\n",
       "\n",
       "    .dataframe tbody tr th {\n",
       "        vertical-align: top;\n",
       "    }\n",
       "\n",
       "    .dataframe thead th {\n",
       "        text-align: right;\n",
       "    }\n",
       "</style>\n",
       "<table border=\"1\" class=\"dataframe\">\n",
       "  <thead>\n",
       "    <tr style=\"text-align: right;\">\n",
       "      <th></th>\n",
       "      <th>product_link</th>\n",
       "    </tr>\n",
       "  </thead>\n",
       "  <tbody>\n",
       "    <tr>\n",
       "      <th>0</th>\n",
       "      <td>https://www.myntra.com/tshirts/bullmer/bullmer...</td>\n",
       "    </tr>\n",
       "    <tr>\n",
       "      <th>1</th>\n",
       "      <td>https://www.myntra.com/tshirts/difference+of+o...</td>\n",
       "    </tr>\n",
       "    <tr>\n",
       "      <th>2</th>\n",
       "      <td>https://www.myntra.com/tshirts/stormborn/storm...</td>\n",
       "    </tr>\n",
       "    <tr>\n",
       "      <th>3</th>\n",
       "      <td>https://www.myntra.com/tshirts/roadster/roadst...</td>\n",
       "    </tr>\n",
       "    <tr>\n",
       "      <th>4</th>\n",
       "      <td>https://www.myntra.com/tshirts/here%26now/here...</td>\n",
       "    </tr>\n",
       "  </tbody>\n",
       "</table>\n",
       "</div>"
      ],
      "text/plain": [
       "                                        product_link\n",
       "0  https://www.myntra.com/tshirts/bullmer/bullmer...\n",
       "1  https://www.myntra.com/tshirts/difference+of+o...\n",
       "2  https://www.myntra.com/tshirts/stormborn/storm...\n",
       "3  https://www.myntra.com/tshirts/roadster/roadst...\n",
       "4  https://www.myntra.com/tshirts/here%26now/here..."
      ]
     },
     "execution_count": 17,
     "metadata": {},
     "output_type": "execute_result"
    }
   ],
   "source": [
    "#Converting the data into DataFrame\n",
    "product_link_df=pd.DataFrame(product_link_data)\n",
    "product_link_df.head(5)"
   ]
  },
  {
   "cell_type": "code",
   "execution_count": 18,
   "metadata": {},
   "outputs": [
    {
     "name": "stdout",
     "output_type": "stream",
     "text": [
      "Shape : (50, 1)\n",
      "Null_Values : product_link    0\n",
      "dtype: int64\n"
     ]
    }
   ],
   "source": [
    "#checking Shape\n",
    "print(\"Shape :\",product_link_df.shape)\n",
    "#Checking Null Values\n",
    "print(\"Null_Values :\",product_link_df.isna().sum())"
   ]
  },
  {
   "cell_type": "code",
   "execution_count": 19,
   "metadata": {},
   "outputs": [],
   "source": [
    "#Converting Dataframe to \".csv\" File\n",
    "product_link_df.to_csv(\"sample_product_links.csv\",index=True)"
   ]
  }
 ],
 "metadata": {
  "kernelspec": {
   "display_name": "Python 3",
   "language": "python",
   "name": "python3"
  },
  "language_info": {
   "codemirror_mode": {
    "name": "ipython",
    "version": 3
   },
   "file_extension": ".py",
   "mimetype": "text/x-python",
   "name": "python",
   "nbconvert_exporter": "python",
   "pygments_lexer": "ipython3",
   "version": "3.11.4"
  }
 },
 "nbformat": 4,
 "nbformat_minor": 2
}
